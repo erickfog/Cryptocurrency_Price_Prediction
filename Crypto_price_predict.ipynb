{
 "cells": [
  {
   "cell_type": "markdown",
   "id": "afbfb0d6",
   "metadata": {},
   "source": [
    "# PASSO 00 IMPORTS"
   ]
  },
  {
   "cell_type": "markdown",
   "id": "f4ab616a",
   "metadata": {},
   "source": [
    "# PASSO 01 DATA DESCRIPTION"
   ]
  },
  {
   "cell_type": "markdown",
   "id": "033aa1ea",
   "metadata": {},
   "source": [
    "# PASSO 02 FEATURE ENGINEERING"
   ]
  },
  {
   "cell_type": "markdown",
   "id": "0f767b68",
   "metadata": {},
   "source": [
    "# PASSO 03 Variable Filtering"
   ]
  },
  {
   "cell_type": "markdown",
   "id": "453f8369",
   "metadata": {
    "heading_collapsed": true
   },
   "source": [
    "# PASSO 04 Exploratory Data Analysis (EDA)"
   ]
  },
  {
   "cell_type": "markdown",
   "id": "f428856d",
   "metadata": {
    "hidden": true
   },
   "source": [
    "## 4.1 Univariate Analysis"
   ]
  },
  {
   "cell_type": "markdown",
   "id": "7efb772e",
   "metadata": {
    "hidden": true
   },
   "source": [
    "## 4.2 Biavariate Analysis"
   ]
  },
  {
   "cell_type": "markdown",
   "id": "b8d3e53e",
   "metadata": {
    "hidden": true
   },
   "source": [
    "## 4.2 Multivariate Analysis"
   ]
  },
  {
   "cell_type": "markdown",
   "id": "a0e92788",
   "metadata": {
    "heading_collapsed": true
   },
   "source": [
    "# PASSO 05 Data Preparation"
   ]
  },
  {
   "cell_type": "markdown",
   "id": "b35c38b2",
   "metadata": {
    "hidden": true
   },
   "source": [
    "## 5.1 Normalization"
   ]
  },
  {
   "cell_type": "markdown",
   "id": "891c7980",
   "metadata": {
    "hidden": true
   },
   "source": [
    "## 5.2 Rescaling"
   ]
  },
  {
   "cell_type": "markdown",
   "id": "169fee79",
   "metadata": {
    "hidden": true
   },
   "source": [
    "## 5.3 Transaformation"
   ]
  },
  {
   "cell_type": "markdown",
   "id": "9c33644e",
   "metadata": {},
   "source": [
    "# PASSO 06 Feature Selection"
   ]
  },
  {
   "cell_type": "markdown",
   "id": "5927ff8d",
   "metadata": {},
   "source": [
    "# PASSO 07 Machine Learning Modelling"
   ]
  },
  {
   "cell_type": "markdown",
   "id": "9290ea5a",
   "metadata": {},
   "source": [
    "# PASSO 08 Hyperparameter Fine tuning"
   ]
  },
  {
   "cell_type": "markdown",
   "id": "30ec3002",
   "metadata": {},
   "source": [
    "# PASSO 09 Error Translate and Interpretation"
   ]
  },
  {
   "cell_type": "markdown",
   "id": "b4e6c2cd",
   "metadata": {},
   "source": [
    "# PASSO 10 Deploy Model to Production"
   ]
  }
 ],
 "metadata": {
  "kernelspec": {
   "display_name": "Python 3 (ipykernel)",
   "language": "python",
   "name": "python3"
  },
  "language_info": {
   "codemirror_mode": {
    "name": "ipython",
    "version": 3
   },
   "file_extension": ".py",
   "mimetype": "text/x-python",
   "name": "python",
   "nbconvert_exporter": "python",
   "pygments_lexer": "ipython3",
   "version": "3.9.13"
  }
 },
 "nbformat": 4,
 "nbformat_minor": 5
}
